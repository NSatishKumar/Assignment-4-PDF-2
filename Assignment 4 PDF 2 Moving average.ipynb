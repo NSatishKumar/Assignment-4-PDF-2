{
 "cells": [
  {
   "cell_type": "code",
   "execution_count": null,
   "metadata": {},
   "outputs": [],
   "source": []
  },
  {
   "cell_type": "markdown",
   "metadata": {},
   "source": [
    "## Given  a  sequence  of  n  values  x1,  x2,  ...,  xn  and  a  window  size  k>0,  the  k-th  moving average of the given sequence is defined as follows:  \n",
    "       \n",
    "     The moving average sequence has n-k+1 elements as shown below.  \n",
    "       \n",
    "     The moving averages with k=4 of a ten-value sequence (n=10) is shown below  \n",
    "       \n",
    "        i     1   2   3   4   5   6   7   8   9 10  \n",
    "     =====  ==  ==  ==  ==  ==  ==  ==  ==  ==  ==  \n",
    "     Input  10  20  30  40  50  60  70  80  90 100  \n",
    "     y1     25 = (10+20+30+40)/4  \n",
    "     y2         35 = (20+30+40+50)/4  \n",
    "     y3             45 = (30+40+50+60)/4  \n",
    "     y4                 55 = (40+50+60+70)/4  \n",
    "     y5                     65 = (50+60+70+80)/4  \n",
    "     y6                         75 = (60+70+80+90)/4  \n",
    "     y7                             85 = (70+80+90+100)/4  \n",
    "       \n",
    "\n",
    "     Thus, the moving average sequence has n-k+1=10-4+1=7 values.  \n",
    "     \n",
    "     Problem Statement  \n",
    "\n",
    "     Write a function to find moving average in an array over a window:  \n",
    "       \n",
    "     Test it over [3, 5, 7, 2, 8, 10, 11, 65, 72, 81, 99, 100, 150] and window of 3. \n",
    "     "
   ]
  },
  {
   "cell_type": "code",
   "execution_count": 1,
   "metadata": {},
   "outputs": [
    {
     "name": "stdout",
     "output_type": "stream",
     "text": [
      "Input values:  [3, 5, 7, 2, 8, 10, 11, 65, 72, 81, 99, 100, 150]\n",
      "Moving Average values:  [5.0, 4.67, 5.67, 6.67, 9.67, 28.67, 49.33, 72.67, 84.0, 93.33, 116.33]\n"
     ]
    }
   ],
   "source": [
    "# Without using the default keywords\n",
    "\n",
    "inputval=[3, 5, 7, 2, 8, 10, 11, 65, 72, 81, 99, 100, 150]                  # Input array\n",
    "print(\"Input values: \",inputval)\n",
    "windowval=3                                                                 # Window size\n",
    "inpLen=len(inputval)\n",
    "itr=0\n",
    "outputval=[]                                                                # Output array\n",
    "while(itr<(inpLen-windowval+1)):                                            # while loop with condition (n-k+1)\n",
    "    endpt=windowval+itr\n",
    "    outputval.append(round(((sum(inputval[itr:endpt]))/windowval),2))      # Calculating the moving average and storing in output\n",
    "    itr=itr+1\n",
    "print(\"Moving Average values: \",outputval)"
   ]
  },
  {
   "cell_type": "code",
   "execution_count": 26,
   "metadata": {},
   "outputs": [],
   "source": [
    "#  Description of Moving Average of a input array\n",
    "\n",
    "Inorder to calculate the moving average of the input array,\n",
    "For the first iteration value, we need to take windowsize number of elements from zero index and calculate the average.\n",
    "For the second iteration value, we need to take windowsize number of elements from index one and calculate the average.\n",
    "and soon. In this way we need to calculate the average till (N-K+1) iterations. \n",
    "Where N - Total number of elements in input array\n",
    "      K - window size\n"
   ]
  },
  {
   "cell_type": "code",
   "execution_count": 2,
   "metadata": {},
   "outputs": [
    {
     "name": "stdout",
     "output_type": "stream",
     "text": [
      "Input values:  [3, 5, 7, 2, 8, 10, 11, 65, 72, 81, 99, 100, 150]\n",
      "\n",
      "Moving average values:  [5.0, 4.67, 5.67, 6.67, 9.67, 28.67, 49.33, 72.67, 84.0, 93.33, 116.33]\n"
     ]
    }
   ],
   "source": [
    "# Implementation of moving_averages based on convolution technique.\n",
    "\n",
    "import numpy as np\n",
    "inputArray = [3, 5, 7, 2, 8, 10, 11, 65, 72, 81, 99, 100, 150]     # Declaring the input array\n",
    "windowval = 3                                                      # Decalring the window size\n",
    "print(\"Input values: \",inputArray)\n",
    "weights = np.repeat(1.0, windowval)/windowval\n",
    "outputArray = np.convolve(inputArray, weights, 'valid')            #Applying convolution function\n",
    "outputlist= [round(float(item),2) for item in outputArray]         # stroing in list and rounding off each value to 2 decimals\n",
    "print (\"\\nMoving average values: \",outputlist)"
   ]
  },
  {
   "cell_type": "code",
   "execution_count": null,
   "metadata": {},
   "outputs": [],
   "source": []
  }
 ],
 "metadata": {
  "kernelspec": {
   "display_name": "Python 3",
   "language": "python",
   "name": "python3"
  },
  "language_info": {
   "codemirror_mode": {
    "name": "ipython",
    "version": 3
   },
   "file_extension": ".py",
   "mimetype": "text/x-python",
   "name": "python",
   "nbconvert_exporter": "python",
   "pygments_lexer": "ipython3",
   "version": "3.7.0"
  }
 },
 "nbformat": 4,
 "nbformat_minor": 2
}
